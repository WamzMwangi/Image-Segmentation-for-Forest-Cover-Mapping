{
 "cells": [
  {
   "cell_type": "code",
   "execution_count": 7,
   "metadata": {},
   "outputs": [],
   "source": [
    "from numpy import random\n",
    "import numpy as np"
   ]
  },
  {
   "cell_type": "code",
   "execution_count": 8,
   "metadata": {},
   "outputs": [
    {
     "name": "stdout",
     "output_type": "stream",
     "text": [
      "[0.31715099 0.56786018 0.52478277 0.79559771 0.20244301 0.34064597\n",
      " 0.20089111 0.03060463 0.09932569 0.5114338  0.94653467 0.86214566\n",
      " 0.14530903 0.47240746 0.92513191 0.19269661 0.27725524 0.65297089\n",
      " 0.20144086 0.22984923 0.20903214 0.78108583 0.81010906 0.90200585\n",
      " 0.0934914  0.96263222 0.37718906 0.53808085 0.07610772 0.79008489]\n"
     ]
    }
   ],
   "source": [
    "a= random.rand(30)\n",
    "print(a)"
   ]
  },
  {
   "cell_type": "code",
   "execution_count": 13,
   "metadata": {},
   "outputs": [
    {
     "name": "stdout",
     "output_type": "stream",
     "text": [
      "[0.31715099 0.56786018 0.52478277]\n",
      "[0.79559771 0.20244301 0.34064597]\n",
      "[0.20089111 0.03060463 0.09932569]\n",
      "[0.5114338  0.94653467 0.86214566]\n",
      "[0.14530903 0.47240746 0.92513191]\n",
      "[0.19269661 0.27725524 0.65297089]\n",
      "[0.20144086 0.22984923 0.20903214]\n",
      "[0.78108583 0.81010906 0.90200585]\n",
      "[0.0934914  0.96263222 0.37718906]\n",
      "[0.53808085 0.07610772 0.79008489]\n"
     ]
    }
   ],
   "source": [
    "batch_size=3\n",
    "for x in range (0,len(a),batch_size):\n",
    "    batch_num=a[x:x+batch_size]\n",
    "    print(batch_num)"
   ]
  },
  {
   "cell_type": "code",
   "execution_count": null,
   "metadata": {},
   "outputs": [],
   "source": []
  }
 ],
 "metadata": {
  "kernelspec": {
   "display_name": "Python 3",
   "language": "python",
   "name": "python3"
  },
  "language_info": {
   "codemirror_mode": {
    "name": "ipython",
    "version": 3
   },
   "file_extension": ".py",
   "mimetype": "text/x-python",
   "name": "python",
   "nbconvert_exporter": "python",
   "pygments_lexer": "ipython3",
   "version": "3.12.4"
  }
 },
 "nbformat": 4,
 "nbformat_minor": 2
}
